{
  "cells": [
    {
      "cell_type": "markdown",
      "metadata": {
        "id": "view-in-github",
        "colab_type": "text"
      },
      "source": [
        "<a href=\"https://colab.research.google.com/github/taniajasmin/Video-Downloader-Web-App/blob/main/downloader.ipynb\" target=\"_parent\"><img src=\"https://colab.research.google.com/assets/colab-badge.svg\" alt=\"Open In Colab\"/></a>"
      ]
    },
    {
      "cell_type": "markdown",
      "metadata": {
        "id": "dHd-htCf6lfq"
      },
      "source": [
        "# Only youtube"
      ]
    },
    {
      "cell_type": "code",
      "execution_count": null,
      "metadata": {
        "id": "gO9uIEXm6f4i"
      },
      "outputs": [],
      "source": [
        "!pip install pytube"
      ]
    },
    {
      "cell_type": "code",
      "execution_count": null,
      "metadata": {
        "id": "wNIRLVZt6jP5"
      },
      "outputs": [],
      "source": [
        "from pytube import YouTube\n",
        "\n",
        "def download_video(url, path='.'):\n",
        "    yt = YouTube(url)\n",
        "    stream = yt.streams.get_highest_resolution()\n",
        "    print(f\"Downloading: {yt.title}\")\n",
        "    stream.download(output_path=path)\n",
        "    print(\"Download completed!\")\n",
        "\n",
        "if __name__ == \"__main__\":\n",
        "    video_url = input(\"Enter the YouTube video URL: \")\n",
        "    download_path = input(\"Enter download path (or leave blank for current directory): \") or '.'\n",
        "    download_video(video_url, download_path)"
      ]
    },
    {
      "cell_type": "markdown",
      "metadata": {
        "id": "A_txcoL06bMO"
      },
      "source": [
        "Supported Sites:\n",
        "YouTube\n",
        "Vimeo\n",
        "Facebook\n",
        "Dailymotion\n",
        "Twitter, TikTok, Soundcloud, and many more."
      ]
    },
    {
      "cell_type": "code",
      "execution_count": null,
      "metadata": {
        "colab": {
          "base_uri": "https://localhost:8080/"
        },
        "id": "0mZNVyKV6bfJ",
        "outputId": "9daa39ab-00cd-4a48-e9b7-0cf222367db2"
      },
      "outputs": [
        {
          "name": "stdout",
          "output_type": "stream",
          "text": [
            "Requirement already satisfied: yt-dlp in /usr/local/lib/python3.11/dist-packages (2025.3.31)\n"
          ]
        }
      ],
      "source": [
        "!pip install yt-dlp"
      ]
    },
    {
      "cell_type": "code",
      "execution_count": null,
      "metadata": {
        "colab": {
          "background_save": true,
          "base_uri": "https://localhost:8080/"
        },
        "id": "8XunCce85MVi",
        "outputId": "8f885bce-ba8e-4db9-ba6c-e87231e7cff3"
      },
      "outputs": [
        {
          "name": "stdout",
          "output_type": "stream",
          "text": [
            "[youtube] Extracting URL: https://www.youtube.com/watch?v=EPB6ZU6_rvA\n",
            "[youtube] EPB6ZU6_rvA: Downloading webpage\n",
            "[youtube] EPB6ZU6_rvA: Downloading tv client config\n",
            "[youtube] EPB6ZU6_rvA: Downloading player 22f02d3d-main\n",
            "[youtube] EPB6ZU6_rvA: Downloading tv player API JSON\n",
            "[youtube] EPB6ZU6_rvA: Downloading ios player API JSON\n",
            "[youtube] EPB6ZU6_rvA: Downloading m3u8 information\n",
            "[info] EPB6ZU6_rvA: Downloading 1 format(s): 399+251\n",
            "[download] Destination: ./Inside the best NBA game in years.f399.mp4\n",
            "[download] 100% of  297.93MiB in 00:00:03 at 82.20MiB/s  \n",
            "[download] Destination: ./Inside the best NBA game in years.f251.webm\n",
            "[download] 100% of   13.89MiB in 00:00:00 at 114.26MiB/s \n",
            "[Merger] Merging formats into \"./Inside the best NBA game in years.mp4\"\n",
            "Deleting original file ./Inside the best NBA game in years.f251.webm (pass -k to keep)\n",
            "Deleting original file ./Inside the best NBA game in years.f399.mp4 (pass -k to keep)\n"
          ]
        }
      ],
      "source": [
        "import yt_dlp\n",
        "\n",
        "def download_video(url, download_format, path='.'):\n",
        "    # Set options for mp4 or mp3\n",
        "    if download_format == 'mp3':\n",
        "        ydl_opts = {\n",
        "            'format': 'bestaudio/best',\n",
        "            'outtmpl': f'{path}/%(title)s.%(ext)s',\n",
        "            'postprocessors': [{\n",
        "                'key': 'FFmpegExtractAudio',\n",
        "                'preferredcodec': 'mp3',\n",
        "                'preferredquality': '192',\n",
        "            }],\n",
        "            'quiet': False,\n",
        "        }\n",
        "    elif download_format == 'mp4':\n",
        "        ydl_opts = {\n",
        "            'format': 'bestvideo+bestaudio/best',\n",
        "            'outtmpl': f'{path}/%(title)s.%(ext)s',\n",
        "            'merge_output_format': 'mp4',\n",
        "            'quiet': False,\n",
        "        }\n",
        "    else:\n",
        "        print(\"Invalid format selected. Please choose mp3 or mp4.\")\n",
        "        return\n",
        "\n",
        "    with yt_dlp.YoutubeDL(ydl_opts) as ydl:\n",
        "        ydl.download([url])\n",
        "\n",
        "if __name__ == \"__main__\":\n",
        "    video_url = input(\"Enter the video URL: \")\n",
        "    download_format = input(\"Enter the format (mp3/mp4): \").strip().lower()\n",
        "    download_path = input(\"Enter download path (or leave blank for current directory): \") or '.'\n",
        "    download_video(video_url, download_format, download_path)"
      ]
    },
    {
      "cell_type": "code",
      "execution_count": null,
      "metadata": {
        "id": "V2OjT8g865Ma"
      },
      "outputs": [],
      "source": []
    }
  ],
  "metadata": {
    "colab": {
      "provenance": [],
      "authorship_tag": "ABX9TyOiWW0R9LbBeyxmGOKH8yxj",
      "include_colab_link": true
    },
    "kernelspec": {
      "display_name": "Python 3",
      "name": "python3"
    },
    "language_info": {
      "name": "python"
    }
  },
  "nbformat": 4,
  "nbformat_minor": 0
}